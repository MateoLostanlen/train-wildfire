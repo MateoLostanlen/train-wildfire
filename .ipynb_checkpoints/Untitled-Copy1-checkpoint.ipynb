{
 "cells": [
  {
   "cell_type": "code",
   "execution_count": 1,
   "id": "9a04dbae",
   "metadata": {},
   "outputs": [],
   "source": [
    "import holocron\n",
    "from trainer import ClassificationTrainer\n",
    "from cnn_model import cnn_model\n",
    "import torch\n",
    "import torch\n",
    "import torch.nn as nn\n",
    "from torchvision.datasets import ImageFolder\n",
    "from torchvision.transforms import transforms\n",
    "from torch.utils.data import RandomSampler, SequentialSampler, DataLoader"
   ]
  },
  {
   "cell_type": "code",
   "execution_count": 2,
   "id": "b50c8cf1",
   "metadata": {},
   "outputs": [
    {
     "name": "stdout",
     "output_type": "stream",
     "text": [
      "rexnet1_3x\n"
     ]
    },
    {
     "data": {
      "text/plain": [
       "<All keys matched successfully>"
      ]
     },
     "execution_count": 2,
     "metadata": {},
     "output_type": "execute_result"
    }
   ],
   "source": [
    "model_cut = -2\n",
    "num_classes=1\n",
    "lin_features=512\n",
    "dropout_prob=0.5\n",
    "bn_final=False\n",
    "concat_pool=True\n",
    "\n",
    "model_arch = 'rexnet1_3x'\n",
    "print(model_arch)\n",
    "base_model = holocron.models.__dict__[model_arch](False)\n",
    "\n",
    "if model_arch[:6]=='rexnet':\n",
    "    nb_features = base_model.head[1].in_features\n",
    "\n",
    "elif model_arch[:6]=='resnet':\n",
    "    nb_features = base_model.head.in_features\n",
    "\n",
    "else:\n",
    "    nb_features=1024 #darknet\n",
    "\n",
    "#load checkpoint\n",
    "\n",
    "if model_arch =='rexnet1_0x':\n",
    "    cp= 'checkpoints/rexnet1_0x.pth'\n",
    "\n",
    "elif model_arch =='rexnet1_3x':\n",
    "    cp = 'checkpoint.pth'\n",
    "\n",
    "\n",
    "model = cnn_model(base_model, model_cut, nb_features, num_classes,\n",
    "                lin_features, dropout_prob, bn_final=bn_final, concat_pool=concat_pool)\n",
    "\n",
    "\n",
    "\n",
    "model.load_state_dict(torch.load(cp,map_location=torch.device('cpu')))\n"
   ]
  },
  {
   "cell_type": "code",
   "execution_count": 3,
   "id": "1ec49507",
   "metadata": {},
   "outputs": [],
   "source": [
    "def target_transform(target):\n",
    "\n",
    "  delta = 0.9\n",
    "\n",
    "  target = delta*target + (1-delta)*(1-target)\n",
    "\n",
    "  target = torch.tensor(target, dtype=torch.float32)\n",
    "\n",
    "  return target.unsqueeze(dim = 0)"
   ]
  },
  {
   "cell_type": "code",
   "execution_count": 4,
   "id": "bad7812c",
   "metadata": {},
   "outputs": [],
   "source": [
    "size = 448\n",
    "normalize = transforms.Normalize(mean=[0.485, 0.456, 0.406],std=[0.229, 0.224, 0.225])\n",
    "val_transforms = transforms.Compose([\n",
    "    transforms.Resize(size=(size, size)),\n",
    "    transforms.ToTensor(),\n",
    "    normalize\n",
    "])\n",
    "\n",
    "\n",
    "dsVal = ImageFolder(r'C:\\Users\\mateo\\Documents\\Pyronear\\DS\\WildFirev3\\val/', val_transforms, target_transform=target_transform)\n",
    "#dsTest = ImageFolder('data/WildFire/test/', val_transforms, target_transform=target_transform)\n",
    "\n",
    "\n",
    "val_loader = DataLoader(dsVal, 6, shuffle=True, drop_last=True)"
   ]
  },
  {
   "cell_type": "code",
   "execution_count": 5,
   "id": "a5a9016e",
   "metadata": {},
   "outputs": [],
   "source": [
    "criterion = nn.BCEWithLogitsLoss()"
   ]
  },
  {
   "cell_type": "code",
   "execution_count": 6,
   "id": "f173558d",
   "metadata": {},
   "outputs": [],
   "source": [
    "model = model.eval().cuda()"
   ]
  },
  {
   "cell_type": "code",
   "execution_count": 7,
   "id": "9920a8be",
   "metadata": {},
   "outputs": [
    {
     "name": "stdout",
     "output_type": "stream",
     "text": [
      "0.5817158633754367 0.7515051997810619\n"
     ]
    }
   ],
   "source": [
    "loss_val, top_val, num_samples = 0, 0, 0\n",
    "for x, target in val_loader:\n",
    "    x, target = x.cuda(), target.cuda()\n",
    "    with torch.no_grad():\n",
    "        # Forward\n",
    "        out = model(x)\n",
    "        # Loss computation\n",
    "        loss_val += criterion(out, target).item()\n",
    "\n",
    "        top_val += torch.sum((target >= 0.5) == (torch.sigmoid(out) >= 0.5)).item()\n",
    "\n",
    "        num_samples += x.shape[0]\n",
    "    \n",
    "\n",
    "loss_val /= len(val_loader)\n",
    "acc_val = top_val/ num_samples\n",
    "\n",
    "print(loss_val, acc_val)\n"
   ]
  },
  {
   "cell_type": "code",
   "execution_count": 8,
   "id": "d3504bc3",
   "metadata": {},
   "outputs": [
    {
     "name": "stdout",
     "output_type": "stream",
     "text": [
      "0.0009551984620286317 0.7515051997810619\n"
     ]
    }
   ],
   "source": [
    "loss_val /= len(val_loader)\n",
    "acc_val = top_val/ num_samples\n",
    "\n",
    "print(loss_val, acc_val)"
   ]
  },
  {
   "cell_type": "code",
   "execution_count": 9,
   "id": "46542f31",
   "metadata": {},
   "outputs": [],
   "source": [
    "import glob\n",
    "from PIL import Image"
   ]
  },
  {
   "cell_type": "code",
   "execution_count": 10,
   "id": "2b09598d",
   "metadata": {},
   "outputs": [],
   "source": [
    "folder =  r\"C:\\Users\\mateo\\Documents\\Pyronear\\DS\\WildFirev3\\val/\"\n",
    "imgs = glob.glob(folder + '/**/*.jpg')"
   ]
  },
  {
   "cell_type": "code",
   "execution_count": null,
   "id": "b84d59a8",
   "metadata": {},
   "outputs": [],
   "source": []
  },
  {
   "cell_type": "code",
   "execution_count": 11,
   "id": "ae148144",
   "metadata": {},
   "outputs": [],
   "source": [
    "for file in imgs:\n",
    "    \n",
    "    try:\n",
    "        im = Image.open(file).convert('RGB')\n",
    "    except:\n",
    "        print(file)\n",
    "        "
   ]
  },
  {
   "cell_type": "code",
   "execution_count": 12,
   "id": "c827c8ed",
   "metadata": {},
   "outputs": [],
   "source": [
    "im = Image.open(file).convert('RGB')"
   ]
  },
  {
   "cell_type": "code",
   "execution_count": null,
   "id": "a0ffb481",
   "metadata": {},
   "outputs": [],
   "source": []
  }
 ],
 "metadata": {
  "kernelspec": {
   "display_name": "Python 3",
   "language": "python",
   "name": "python3"
  },
  "language_info": {
   "codemirror_mode": {
    "name": "ipython",
    "version": 3
   },
   "file_extension": ".py",
   "mimetype": "text/x-python",
   "name": "python",
   "nbconvert_exporter": "python",
   "pygments_lexer": "ipython3",
   "version": "3.8.10"
  }
 },
 "nbformat": 4,
 "nbformat_minor": 5
}
