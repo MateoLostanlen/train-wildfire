{
 "cells": [
  {
   "cell_type": "code",
   "execution_count": 3,
   "id": "9a04dbae",
   "metadata": {},
   "outputs": [],
   "source": [
    "import holocron\n",
    "from trainer import ClassificationTrainer\n",
    "from cnn_model import cnn_model\n",
    "import torch"
   ]
  },
  {
   "cell_type": "code",
   "execution_count": 6,
   "id": "b50c8cf1",
   "metadata": {},
   "outputs": [
    {
     "name": "stdout",
     "output_type": "stream",
     "text": [
      "rexnet1_3x\n"
     ]
    },
    {
     "data": {
      "text/plain": [
       "<All keys matched successfully>"
      ]
     },
     "execution_count": 6,
     "metadata": {},
     "output_type": "execute_result"
    }
   ],
   "source": [
    "model_cut = -2\n",
    "num_classes=1\n",
    "lin_features=512\n",
    "dropout_prob=0.5\n",
    "bn_final=False\n",
    "concat_pool=True\n",
    "\n",
    "model_arch = 'rexnet1_3x'\n",
    "print(model_arch)\n",
    "base_model = holocron.models.__dict__[model_arch](False)\n",
    "\n",
    "if model_arch[:6]=='rexnet':\n",
    "    nb_features = base_model.head[1].in_features\n",
    "\n",
    "elif model_arch[:6]=='resnet':\n",
    "    nb_features = base_model.head.in_features\n",
    "\n",
    "else:\n",
    "    nb_features=1024 #darknet\n",
    "\n",
    "#load checkpoint\n",
    "\n",
    "if model_arch =='rexnet1_0x':\n",
    "    cp= 'checkpoints/rexnet1_0x.pth'\n",
    "\n",
    "elif model_arch =='rexnet1_3x':\n",
    "    cp = 'checkpoints/rexnet1_3x.pth'\n",
    "\n",
    "\n",
    "model = cnn_model(base_model, model_cut, nb_features, num_classes,\n",
    "                lin_features, dropout_prob, bn_final=bn_final, concat_pool=concat_pool)\n",
    "\n",
    "\n",
    "\n",
    "model.load_state_dict(torch.load(cp,map_location=torch.device('cpu')))\n"
   ]
  },
  {
   "cell_type": "code",
   "execution_count": null,
   "id": "bad7812c",
   "metadata": {},
   "outputs": [],
   "source": []
  }
 ],
 "metadata": {
  "kernelspec": {
   "display_name": "Python 3",
   "language": "python",
   "name": "python3"
  },
  "language_info": {
   "codemirror_mode": {
    "name": "ipython",
    "version": 3
   },
   "file_extension": ".py",
   "mimetype": "text/x-python",
   "name": "python",
   "nbconvert_exporter": "python",
   "pygments_lexer": "ipython3",
   "version": "3.8.10"
  }
 },
 "nbformat": 4,
 "nbformat_minor": 5
}
