{
 "cells": [
  {
   "cell_type": "code",
   "execution_count": 1,
   "id": "9a04dbae",
   "metadata": {},
   "outputs": [],
   "source": [
    "import holocron\n",
    "from trainer import ClassificationTrainer\n",
    "from cnn_model import cnn_model\n",
    "import torch\n",
    "import torch\n",
    "import torch.nn as nn\n",
    "from torchvision.datasets import ImageFolder\n",
    "from torchvision.transforms import transforms\n",
    "from torch.utils.data import RandomSampler, SequentialSampler, DataLoader"
   ]
  },
  {
   "cell_type": "code",
   "execution_count": 2,
   "id": "b50c8cf1",
   "metadata": {},
   "outputs": [
    {
     "name": "stdout",
     "output_type": "stream",
     "text": [
      "rexnet1_3x\n"
     ]
    },
    {
     "data": {
      "text/plain": [
       "<All keys matched successfully>"
      ]
     },
     "execution_count": 2,
     "metadata": {},
     "output_type": "execute_result"
    }
   ],
   "source": [
    "model_cut = -2\n",
    "num_classes=1\n",
    "lin_features=512\n",
    "dropout_prob=0.5\n",
    "bn_final=False\n",
    "concat_pool=True\n",
    "\n",
    "model_arch = 'rexnet1_3x'\n",
    "print(model_arch)\n",
    "base_model = holocron.models.__dict__[model_arch](False)\n",
    "\n",
    "if model_arch[:6]=='rexnet':\n",
    "    nb_features = base_model.head[1].in_features\n",
    "\n",
    "elif model_arch[:6]=='resnet':\n",
    "    nb_features = base_model.head.in_features\n",
    "\n",
    "else:\n",
    "    nb_features=1024 #darknet\n",
    "\n",
    "#load checkpoint\n",
    "\n",
    "if model_arch =='rexnet1_0x':\n",
    "    cp= 'checkpoints/rexnet1_0x.pth'\n",
    "\n",
    "elif model_arch =='rexnet1_3x':\n",
    "    cp = 'checkpoint.pth'\n",
    "\n",
    "\n",
    "model = cnn_model(base_model, model_cut, nb_features, num_classes,\n",
    "                lin_features, dropout_prob, bn_final=bn_final, concat_pool=concat_pool)\n",
    "\n",
    "\n",
    "\n",
    "model.load_state_dict(torch.load(cp,map_location=torch.device('cpu')))\n"
   ]
  },
  {
   "cell_type": "code",
   "execution_count": 3,
   "id": "1ec49507",
   "metadata": {},
   "outputs": [],
   "source": [
    "def target_transform(target):\n",
    "\n",
    "  delta = 0.9\n",
    "\n",
    "  target = delta*target + (1-delta)*(1-target)\n",
    "\n",
    "  target = torch.tensor(target, dtype=torch.float32)\n",
    "\n",
    "  return target.unsqueeze(dim = 0)"
   ]
  },
  {
   "cell_type": "code",
   "execution_count": 4,
   "id": "bad7812c",
   "metadata": {},
   "outputs": [],
   "source": [
    "size = 448\n",
    "normalize = transforms.Normalize(mean=[0.485, 0.456, 0.406],std=[0.229, 0.224, 0.225])\n",
    "val_transforms = transforms.Compose([\n",
    "    transforms.Resize(size=(size, size)),\n",
    "    transforms.ToTensor(),\n",
    "    normalize\n",
    "])\n",
    "\n",
    "\n",
    "dsVal = ImageFolder(r'C:\\Users\\mateo\\Documents\\Pyronear\\DS\\WildFirev3\\val/', val_transforms, target_transform=target_transform)\n",
    "#dsTest = ImageFolder('data/WildFire/test/', val_transforms, target_transform=target_transform)\n",
    "\n",
    "\n",
    "val_loader = DataLoader(dsVal, 8, shuffle=True)"
   ]
  },
  {
   "cell_type": "code",
   "execution_count": 5,
   "id": "a5a9016e",
   "metadata": {},
   "outputs": [],
   "source": [
    "criterion = nn.BCEWithLogitsLoss()"
   ]
  },
  {
   "cell_type": "code",
   "execution_count": 6,
   "id": "f173558d",
   "metadata": {},
   "outputs": [],
   "source": [
    "model = model.eval()"
   ]
  },
  {
   "cell_type": "code",
   "execution_count": null,
   "id": "9920a8be",
   "metadata": {},
   "outputs": [
    {
     "name": "stdout",
     "output_type": "stream",
     "text": [
      "0.75\n",
      "0.875\n",
      "0.7916666666666666\n",
      "0.8125\n",
      "0.8\n",
      "0.8125\n",
      "0.8214285714285714\n",
      "0.796875\n",
      "0.7916666666666666\n",
      "0.8\n",
      "0.7727272727272727\n",
      "0.7604166666666666\n",
      "0.7596153846153846\n",
      "0.7589285714285714\n",
      "0.75\n",
      "0.75\n",
      "0.7426470588235294\n",
      "0.7361111111111112\n",
      "0.7368421052631579\n",
      "0.71875\n",
      "0.7321428571428571\n",
      "0.7215909090909091\n",
      "0.717391304347826\n",
      "0.7239583333333334\n",
      "0.725\n",
      "0.7163461538461539\n",
      "0.7129629629629629\n",
      "0.71875\n",
      "0.7198275862068966\n",
      "0.7208333333333333\n",
      "0.7258064516129032\n",
      "0.72265625\n",
      "0.7310606060606061\n",
      "0.7279411764705882\n",
      "0.7321428571428571\n",
      "0.7326388888888888\n",
      "0.7297297297297297\n",
      "0.7269736842105263\n",
      "0.7307692307692307\n",
      "0.728125\n",
      "0.7317073170731707\n",
      "0.7291666666666666\n",
      "0.7325581395348837\n",
      "0.7357954545454546\n",
      "0.7361111111111112\n",
      "0.7364130434782609\n",
      "0.7340425531914894\n",
      "0.7369791666666666\n",
      "0.7346938775510204\n",
      "0.7375\n",
      "0.7401960784313726\n",
      "0.7307692307692307\n",
      "0.7240566037735849\n",
      "0.7222222222222222\n",
      "0.7227272727272728\n",
      "0.7232142857142857\n",
      "0.7258771929824561\n",
      "0.7241379310344828\n",
      "0.7288135593220338\n",
      "0.7229166666666667\n",
      "0.7254098360655737\n",
      "0.7258064516129032\n",
      "0.7261904761904762\n",
      "0.724609375\n",
      "0.7230769230769231\n",
      "0.7253787878787878\n",
      "0.7238805970149254\n",
      "0.7242647058823529\n",
      "0.7228260869565217\n",
      "0.725\n",
      "0.7235915492957746\n",
      "0.7239583333333334\n",
      "0.7243150684931506\n",
      "0.7280405405405406\n",
      "0.7283333333333334\n",
      "0.7302631578947368\n",
      "0.7321428571428571\n",
      "0.7323717948717948\n",
      "0.7341772151898734\n",
      "0.73125\n",
      "0.7345679012345679\n",
      "0.7378048780487805\n",
      "0.7379518072289156\n",
      "0.7366071428571429\n",
      "0.736764705882353\n",
      "0.7383720930232558\n",
      "0.7399425287356322\n",
      "0.7400568181818182\n",
      "0.7401685393258427\n"
     ]
    }
   ],
   "source": [
    "loss_val, top_val, num_samples = 0, 0, 0\n",
    "for x, target in val_loader:\n",
    "    x, target = x, target\n",
    "\n",
    "    # Forward\n",
    "    out = model(x)\n",
    "    # Loss computation\n",
    "    loss_val += criterion(out, target).item()\n",
    "\n",
    "    top_val += torch.sum((target >= 0.5) == (torch.sigmoid(out) >= 0.5)).item()\n",
    "\n",
    "    num_samples += x.shape[0]\n",
    "    \n",
    "    print(top_val/ num_samples)\n",
    "\n",
    "\n",
    "\n",
    "loss_val /= len(self.val_loader)\n",
    "acc_val = top_val/ num_samples"
   ]
  },
  {
   "cell_type": "code",
   "execution_count": null,
   "id": "46542f31",
   "metadata": {},
   "outputs": [],
   "source": []
  },
  {
   "cell_type": "code",
   "execution_count": null,
   "id": "2b09598d",
   "metadata": {},
   "outputs": [],
   "source": []
  }
 ],
 "metadata": {
  "kernelspec": {
   "display_name": "Python 3",
   "language": "python",
   "name": "python3"
  },
  "language_info": {
   "codemirror_mode": {
    "name": "ipython",
    "version": 3
   },
   "file_extension": ".py",
   "mimetype": "text/x-python",
   "name": "python",
   "nbconvert_exporter": "python",
   "pygments_lexer": "ipython3",
   "version": "3.8.10"
  }
 },
 "nbformat": 4,
 "nbformat_minor": 5
}
